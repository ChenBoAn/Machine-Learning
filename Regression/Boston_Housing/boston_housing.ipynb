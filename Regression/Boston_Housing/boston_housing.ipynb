{
 "cells": [
  {
   "cell_type": "code",
   "execution_count": 1,
   "id": "2e114023",
   "metadata": {
    "_cell_guid": "b1076dfc-b9ad-4769-8c92-a6c4dae69d19",
    "_uuid": "8f2839f25d086af736a60e9eeb907d3b93b6e0e5",
    "execution": {
     "iopub.execute_input": "2022-08-10T04:55:33.805364Z",
     "iopub.status.busy": "2022-08-10T04:55:33.804450Z",
     "iopub.status.idle": "2022-08-10T04:55:33.818246Z",
     "shell.execute_reply": "2022-08-10T04:55:33.817052Z"
    },
    "papermill": {
     "duration": 0.026529,
     "end_time": "2022-08-10T04:55:33.821060",
     "exception": false,
     "start_time": "2022-08-10T04:55:33.794531",
     "status": "completed"
    },
    "tags": []
   },
   "outputs": [],
   "source": [
    "# This Python 3 environment comes with many helpful analytics libraries installed\n",
    "# It is defined by the kaggle/python Docker image: https://github.com/kaggle/docker-python\n",
    "# For example, here's several helpful packages to load\n",
    "\n",
    "import numpy as np # linear algebra\n",
    "import pandas as pd # data processing, CSV file I/O (e.g. pd.read_csv)\n",
    "\n",
    "# Input data files are available in the read-only \"../input/\" directory\n",
    "# For example, running this (by clicking run or pressing Shift+Enter) will list all files under the input directory\n",
    "\n",
    "import os\n",
    "for dirname, _, filenames in os.walk('/kaggle/input'):\n",
    "    for filename in filenames:\n",
    "        print(os.path.join(dirname, filename))\n",
    "\n",
    "# You can write up to 20GB to the current directory (/kaggle/working/) that gets preserved as output when you create a version using \"Save & Run All\" \n",
    "# You can also write temporary files to /kaggle/temp/, but they won't be saved outside of the current session"
   ]
  },
  {
   "cell_type": "code",
   "execution_count": 2,
   "id": "93f622b5",
   "metadata": {
    "execution": {
     "iopub.execute_input": "2022-08-10T04:55:33.836947Z",
     "iopub.status.busy": "2022-08-10T04:55:33.835976Z",
     "iopub.status.idle": "2022-08-10T04:55:40.657073Z",
     "shell.execute_reply": "2022-08-10T04:55:40.655783Z"
    },
    "papermill": {
     "duration": 6.832142,
     "end_time": "2022-08-10T04:55:40.660025",
     "exception": false,
     "start_time": "2022-08-10T04:55:33.827883",
     "status": "completed"
    },
    "tags": []
   },
   "outputs": [],
   "source": [
    "from keras.datasets import boston_housing"
   ]
  },
  {
   "cell_type": "code",
   "execution_count": 3,
   "id": "b7632a47",
   "metadata": {
    "execution": {
     "iopub.execute_input": "2022-08-10T04:55:40.676289Z",
     "iopub.status.busy": "2022-08-10T04:55:40.675555Z",
     "iopub.status.idle": "2022-08-10T04:55:41.090636Z",
     "shell.execute_reply": "2022-08-10T04:55:41.089065Z"
    },
    "papermill": {
     "duration": 0.427171,
     "end_time": "2022-08-10T04:55:41.094482",
     "exception": false,
     "start_time": "2022-08-10T04:55:40.667311",
     "status": "completed"
    },
    "tags": []
   },
   "outputs": [
    {
     "name": "stdout",
     "output_type": "stream",
     "text": [
      "Downloading data from https://storage.googleapis.com/tensorflow/tf-keras-datasets/boston_housing.npz\n",
      "57344/57026 [==============================] - 0s 0us/step\n",
      "65536/57026 [==================================] - 0s 0us/step\n"
     ]
    }
   ],
   "source": [
    "(train_data, train_targets), (test_data, test_targets) = boston_housing.load_data()"
   ]
  },
  {
   "cell_type": "code",
   "execution_count": 4,
   "id": "aaade5c7",
   "metadata": {
    "execution": {
     "iopub.execute_input": "2022-08-10T04:55:41.110465Z",
     "iopub.status.busy": "2022-08-10T04:55:41.110052Z",
     "iopub.status.idle": "2022-08-10T04:55:41.118831Z",
     "shell.execute_reply": "2022-08-10T04:55:41.117907Z"
    },
    "papermill": {
     "duration": 0.019294,
     "end_time": "2022-08-10T04:55:41.120994",
     "exception": false,
     "start_time": "2022-08-10T04:55:41.101700",
     "status": "completed"
    },
    "tags": []
   },
   "outputs": [
    {
     "data": {
      "text/plain": [
       "((404, 13), (102, 13))"
      ]
     },
     "execution_count": 4,
     "metadata": {},
     "output_type": "execute_result"
    }
   ],
   "source": [
    "train_data.shape, test_data.shape"
   ]
  },
  {
   "cell_type": "code",
   "execution_count": 5,
   "id": "a6deb27a",
   "metadata": {
    "execution": {
     "iopub.execute_input": "2022-08-10T04:55:41.137249Z",
     "iopub.status.busy": "2022-08-10T04:55:41.136430Z",
     "iopub.status.idle": "2022-08-10T04:55:41.147399Z",
     "shell.execute_reply": "2022-08-10T04:55:41.146423Z"
    },
    "papermill": {
     "duration": 0.021946,
     "end_time": "2022-08-10T04:55:41.149812",
     "exception": false,
     "start_time": "2022-08-10T04:55:41.127866",
     "status": "completed"
    },
    "tags": []
   },
   "outputs": [
    {
     "data": {
      "text/plain": [
       "array([15.2, 42.3, 50. , 21.1, 17.7, 18.5, 11.3, 15.6, 15.6, 14.4, 12.1,\n",
       "       17.9, 23.1, 19.9, 15.7,  8.8, 50. , 22.5, 24.1, 27.5, 10.9, 30.8,\n",
       "       32.9, 24. , 18.5, 13.3, 22.9, 34.7, 16.6, 17.5, 22.3, 16.1, 14.9,\n",
       "       23.1, 34.9, 25. , 13.9, 13.1, 20.4, 20. , 15.2, 24.7, 22.2, 16.7,\n",
       "       12.7, 15.6, 18.4, 21. , 30.1, 15.1, 18.7,  9.6, 31.5, 24.8, 19.1,\n",
       "       22. , 14.5, 11. , 32. , 29.4, 20.3, 24.4, 14.6, 19.5, 14.1, 14.3,\n",
       "       15.6, 10.5,  6.3, 19.3, 19.3, 13.4, 36.4, 17.8, 13.5, 16.5,  8.3,\n",
       "       14.3, 16. , 13.4, 28.6, 43.5, 20.2, 22. , 23. , 20.7, 12.5, 48.5,\n",
       "       14.6, 13.4, 23.7, 50. , 21.7, 39.8, 38.7, 22.2, 34.9, 22.5, 31.1,\n",
       "       28.7, 46. , 41.7, 21. , 26.6, 15. , 24.4, 13.3, 21.2, 11.7, 21.7,\n",
       "       19.4, 50. , 22.8, 19.7, 24.7, 36.2, 14.2, 18.9, 18.3, 20.6, 24.6,\n",
       "       18.2,  8.7, 44. , 10.4, 13.2, 21.2, 37. , 30.7, 22.9, 20. , 19.3,\n",
       "       31.7, 32. , 23.1, 18.8, 10.9, 50. , 19.6,  5. , 14.4, 19.8, 13.8,\n",
       "       19.6, 23.9, 24.5, 25. , 19.9, 17.2, 24.6, 13.5, 26.6, 21.4, 11.9,\n",
       "       22.6, 19.6,  8.5, 23.7, 23.1, 22.4, 20.5, 23.6, 18.4, 35.2, 23.1,\n",
       "       27.9, 20.6, 23.7, 28. , 13.6, 27.1, 23.6, 20.6, 18.2, 21.7, 17.1,\n",
       "        8.4, 25.3, 13.8, 22.2, 18.4, 20.7, 31.6, 30.5, 20.3,  8.8, 19.2,\n",
       "       19.4, 23.1, 23. , 14.8, 48.8, 22.6, 33.4, 21.1, 13.6, 32.2, 13.1,\n",
       "       23.4, 18.9, 23.9, 11.8, 23.3, 22.8, 19.6, 16.7, 13.4, 22.2, 20.4,\n",
       "       21.8, 26.4, 14.9, 24.1, 23.8, 12.3, 29.1, 21. , 19.5, 23.3, 23.8,\n",
       "       17.8, 11.5, 21.7, 19.9, 25. , 33.4, 28.5, 21.4, 24.3, 27.5, 33.1,\n",
       "       16.2, 23.3, 48.3, 22.9, 22.8, 13.1, 12.7, 22.6, 15. , 15.3, 10.5,\n",
       "       24. , 18.5, 21.7, 19.5, 33.2, 23.2,  5. , 19.1, 12.7, 22.3, 10.2,\n",
       "       13.9, 16.3, 17. , 20.1, 29.9, 17.2, 37.3, 45.4, 17.8, 23.2, 29. ,\n",
       "       22. , 18. , 17.4, 34.6, 20.1, 25. , 15.6, 24.8, 28.2, 21.2, 21.4,\n",
       "       23.8, 31. , 26.2, 17.4, 37.9, 17.5, 20. ,  8.3, 23.9,  8.4, 13.8,\n",
       "        7.2, 11.7, 17.1, 21.6, 50. , 16.1, 20.4, 20.6, 21.4, 20.6, 36.5,\n",
       "        8.5, 24.8, 10.8, 21.9, 17.3, 18.9, 36.2, 14.9, 18.2, 33.3, 21.8,\n",
       "       19.7, 31.6, 24.8, 19.4, 22.8,  7.5, 44.8, 16.8, 18.7, 50. , 50. ,\n",
       "       19.5, 20.1, 50. , 17.2, 20.8, 19.3, 41.3, 20.4, 20.5, 13.8, 16.5,\n",
       "       23.9, 20.6, 31.5, 23.3, 16.8, 14. , 33.8, 36.1, 12.8, 18.3, 18.7,\n",
       "       19.1, 29. , 30.1, 50. , 50. , 22. , 11.9, 37.6, 50. , 22.7, 20.8,\n",
       "       23.5, 27.9, 50. , 19.3, 23.9, 22.6, 15.2, 21.7, 19.2, 43.8, 20.3,\n",
       "       33.2, 19.9, 22.5, 32.7, 22. , 17.1, 19. , 15. , 16.1, 25.1, 23.7,\n",
       "       28.7, 37.2, 22.6, 16.4, 25. , 29.8, 22.1, 17.4, 18.1, 30.3, 17.5,\n",
       "       24.7, 12.6, 26.5, 28.7, 13.3, 10.4, 24.4, 23. , 20. , 17.8,  7. ,\n",
       "       11.8, 24.4, 13.8, 19.4, 25.2, 19.4, 19.4, 29.1])"
      ]
     },
     "execution_count": 5,
     "metadata": {},
     "output_type": "execute_result"
    }
   ],
   "source": [
    "train_targets"
   ]
  },
  {
   "cell_type": "code",
   "execution_count": 6,
   "id": "5db54f93",
   "metadata": {
    "execution": {
     "iopub.execute_input": "2022-08-10T04:55:41.166950Z",
     "iopub.status.busy": "2022-08-10T04:55:41.165982Z",
     "iopub.status.idle": "2022-08-10T04:55:41.173464Z",
     "shell.execute_reply": "2022-08-10T04:55:41.172453Z"
    },
    "papermill": {
     "duration": 0.018536,
     "end_time": "2022-08-10T04:55:41.175852",
     "exception": false,
     "start_time": "2022-08-10T04:55:41.157316",
     "status": "completed"
    },
    "tags": []
   },
   "outputs": [
    {
     "data": {
      "text/plain": [
       "array([[1.23247e+00, 0.00000e+00, 8.14000e+00, ..., 2.10000e+01,\n",
       "        3.96900e+02, 1.87200e+01],\n",
       "       [2.17700e-02, 8.25000e+01, 2.03000e+00, ..., 1.47000e+01,\n",
       "        3.95380e+02, 3.11000e+00],\n",
       "       [4.89822e+00, 0.00000e+00, 1.81000e+01, ..., 2.02000e+01,\n",
       "        3.75520e+02, 3.26000e+00],\n",
       "       ...,\n",
       "       [3.46600e-02, 3.50000e+01, 6.06000e+00, ..., 1.69000e+01,\n",
       "        3.62250e+02, 7.83000e+00],\n",
       "       [2.14918e+00, 0.00000e+00, 1.95800e+01, ..., 1.47000e+01,\n",
       "        2.61950e+02, 1.57900e+01],\n",
       "       [1.43900e-02, 6.00000e+01, 2.93000e+00, ..., 1.56000e+01,\n",
       "        3.76700e+02, 4.38000e+00]])"
      ]
     },
     "execution_count": 6,
     "metadata": {},
     "output_type": "execute_result"
    }
   ],
   "source": [
    "train_data"
   ]
  },
  {
   "cell_type": "code",
   "execution_count": 7,
   "id": "e1050685",
   "metadata": {
    "execution": {
     "iopub.execute_input": "2022-08-10T04:55:41.192826Z",
     "iopub.status.busy": "2022-08-10T04:55:41.192001Z",
     "iopub.status.idle": "2022-08-10T04:55:41.197736Z",
     "shell.execute_reply": "2022-08-10T04:55:41.196738Z"
    },
    "papermill": {
     "duration": 0.017067,
     "end_time": "2022-08-10T04:55:41.200172",
     "exception": false,
     "start_time": "2022-08-10T04:55:41.183105",
     "status": "completed"
    },
    "tags": []
   },
   "outputs": [],
   "source": [
    "#正規化(normalization)\n",
    "#原因: 將不同類型或不同單位的數值輸入神經網路會有問題\n",
    "#方式: 對輸入資料中的每個特徵值，減去特徵的平均值並除以標準差(standard deviation)\n",
    "#  -> 特徵數值以0為中心，並以標準差為單位刻度\n",
    "\n",
    "mean = train_data.mean(axis=0) #沿第0軸(batch_size軸)做平均\n",
    "std = train_data.std(axis=0) #第0軸(batch_size軸)算標準差"
   ]
  },
  {
   "cell_type": "code",
   "execution_count": 8,
   "id": "1ba99128",
   "metadata": {
    "execution": {
     "iopub.execute_input": "2022-08-10T04:55:41.216911Z",
     "iopub.status.busy": "2022-08-10T04:55:41.216119Z",
     "iopub.status.idle": "2022-08-10T04:55:41.221060Z",
     "shell.execute_reply": "2022-08-10T04:55:41.220102Z"
    },
    "papermill": {
     "duration": 0.016092,
     "end_time": "2022-08-10T04:55:41.223413",
     "exception": false,
     "start_time": "2022-08-10T04:55:41.207321",
     "status": "completed"
    },
    "tags": []
   },
   "outputs": [],
   "source": [
    "train_data -= mean\n",
    "train_data /= std\n",
    "\n",
    "#正規化測試資料，需使用訓練資料集來計算mean和std\n",
    "#不能使用源自測試資料集的數值，防止資料洩漏\n",
    "test_data -= mean\n",
    "test_data /= std"
   ]
  },
  {
   "cell_type": "code",
   "execution_count": 9,
   "id": "045fc3b1",
   "metadata": {
    "execution": {
     "iopub.execute_input": "2022-08-10T04:55:41.240047Z",
     "iopub.status.busy": "2022-08-10T04:55:41.239250Z",
     "iopub.status.idle": "2022-08-10T04:55:41.246405Z",
     "shell.execute_reply": "2022-08-10T04:55:41.245422Z"
    },
    "papermill": {
     "duration": 0.018359,
     "end_time": "2022-08-10T04:55:41.248858",
     "exception": false,
     "start_time": "2022-08-10T04:55:41.230499",
     "status": "completed"
    },
    "tags": []
   },
   "outputs": [
    {
     "data": {
      "text/plain": [
       "array([[-0.27224633, -0.48361547, -0.43576161, ...,  1.14850044,\n",
       "         0.44807713,  0.8252202 ],\n",
       "       [-0.40342651,  2.99178419, -1.33391162, ..., -1.71818909,\n",
       "         0.43190599, -1.32920239],\n",
       "       [ 0.1249402 , -0.48361547,  1.0283258 , ...,  0.78447637,\n",
       "         0.22061726, -1.30850006],\n",
       "       ...,\n",
       "       [-0.40202987,  0.99079651, -0.7415148 , ..., -0.71712291,\n",
       "         0.07943894, -0.67776904],\n",
       "       [-0.17292018, -0.48361547,  1.24588095, ..., -1.71818909,\n",
       "        -0.98764362,  0.42083466],\n",
       "       [-0.40422614,  2.04394792, -1.20161456, ..., -1.30866202,\n",
       "         0.23317118, -1.15392266]])"
      ]
     },
     "execution_count": 9,
     "metadata": {},
     "output_type": "execute_result"
    }
   ],
   "source": [
    "train_data"
   ]
  },
  {
   "cell_type": "code",
   "execution_count": 10,
   "id": "b2dade72",
   "metadata": {
    "execution": {
     "iopub.execute_input": "2022-08-10T04:55:41.266450Z",
     "iopub.status.busy": "2022-08-10T04:55:41.265763Z",
     "iopub.status.idle": "2022-08-10T04:55:41.819625Z",
     "shell.execute_reply": "2022-08-10T04:55:41.818348Z"
    },
    "papermill": {
     "duration": 0.565437,
     "end_time": "2022-08-10T04:55:41.822346",
     "exception": false,
     "start_time": "2022-08-10T04:55:41.256909",
     "status": "completed"
    },
    "tags": []
   },
   "outputs": [],
   "source": [
    "#建立神經網路\n",
    "#擁有訓練資料越少，過度配適的情形越嚴重，因為容易被記起來\n",
    "#使用小型神經網路(隱藏層少)是緩解過度配適的方法之一\n",
    "from tensorflow import keras\n",
    "from tensorflow.keras import layers"
   ]
  },
  {
   "cell_type": "code",
   "execution_count": 11,
   "id": "4b25c4ad",
   "metadata": {
    "execution": {
     "iopub.execute_input": "2022-08-10T04:55:41.840433Z",
     "iopub.status.busy": "2022-08-10T04:55:41.839259Z",
     "iopub.status.idle": "2022-08-10T04:55:41.847158Z",
     "shell.execute_reply": "2022-08-10T04:55:41.846106Z"
    },
    "papermill": {
     "duration": 0.019818,
     "end_time": "2022-08-10T04:55:41.849782",
     "exception": false,
     "start_time": "2022-08-10T04:55:41.829964",
     "status": "completed"
    },
    "tags": []
   },
   "outputs": [],
   "source": [
    "def build_model():\n",
    "    model = keras.Sequential([\n",
    "        layers.Dense(64, activation='relu', input_shape=(train_data.shape[1], )),\n",
    "        layers.Dense(64, activation='relu'),\n",
    "        layers.Dense(1) #單一unit結束，沒有啟動函數 -> 線性層，因為純量迴歸會輸出浮點數型別的數值(迴歸值)，而啟動函數會限制輸出值的範圍\n",
    "                        #ex: sigmoid只能預測0與1間的數值，而純線性的神經網路則可自由地預測任何範圍內的值\n",
    "    ])\n",
    "    \n",
    "    model.compile(optimizer='rmsprop',\n",
    "                 loss='mse', #mean squared error 均方差，計算預測值和目標值之間差異的平方，迴歸問題常用的損失函數\n",
    "                 metrics=['mae']) #mean absolute error 平均絕對誤差，預測值和目標值之間差異的絕對值\n",
    "    \n",
    "    return model"
   ]
  },
  {
   "cell_type": "code",
   "execution_count": 12,
   "id": "03a86803",
   "metadata": {
    "execution": {
     "iopub.execute_input": "2022-08-10T04:55:41.866906Z",
     "iopub.status.busy": "2022-08-10T04:55:41.866473Z",
     "iopub.status.idle": "2022-08-10T04:55:41.871664Z",
     "shell.execute_reply": "2022-08-10T04:55:41.870287Z"
    },
    "papermill": {
     "duration": 0.016482,
     "end_time": "2022-08-10T04:55:41.874088",
     "exception": false,
     "start_time": "2022-08-10T04:55:41.857606",
     "status": "completed"
    },
    "tags": []
   },
   "outputs": [],
   "source": [
    "#K折(K-fold)驗證\n",
    "#因為訓練資料少，拆成的驗證集少，驗證分數會因驗證資料集切割的不同，產生很大的變異性(variance)\n",
    "\n",
    "#K折交叉驗證(K-fold cross validation)\n",
    "#將訓練資料拆成K個區塊，保持模型不變之狀況下，每次取其1區塊作為驗證集，共跑K次，驗證分數為K次驗證分數之平均值"
   ]
  },
  {
   "cell_type": "code",
   "execution_count": 13,
   "id": "f340c6fc",
   "metadata": {
    "execution": {
     "iopub.execute_input": "2022-08-10T04:55:41.890602Z",
     "iopub.status.busy": "2022-08-10T04:55:41.890161Z",
     "iopub.status.idle": "2022-08-10T04:58:24.085234Z",
     "shell.execute_reply": "2022-08-10T04:58:24.083992Z"
    },
    "papermill": {
     "duration": 162.206898,
     "end_time": "2022-08-10T04:58:24.088316",
     "exception": false,
     "start_time": "2022-08-10T04:55:41.881418",
     "status": "completed"
    },
    "tags": []
   },
   "outputs": [
    {
     "name": "stdout",
     "output_type": "stream",
     "text": [
      "processing fold # 0\n"
     ]
    },
    {
     "name": "stderr",
     "output_type": "stream",
     "text": [
      "2022-08-10 04:55:41.950824: I tensorflow/core/common_runtime/process_util.cc:146] Creating new thread pool with default inter op setting: 2. Tune using inter_op_parallelism_threads for best performance.\n",
      "2022-08-10 04:55:42.295819: I tensorflow/compiler/mlir/mlir_graph_optimization_pass.cc:185] None of the MLIR Optimization Passes are enabled (registered 2)\n"
     ]
    },
    {
     "name": "stdout",
     "output_type": "stream",
     "text": [
      "processing fold # 1\n",
      "processing fold # 2\n",
      "processing fold # 3\n"
     ]
    }
   ],
   "source": [
    "k = 4 #進行4折交叉驗證\n",
    "num_val_samples = len(train_data) // k\n",
    "num_epochs = 100\n",
    "all_scores = []\n",
    "\n",
    "for i in range(k):\n",
    "    print('processing fold #', i)\n",
    "    #驗證集:\n",
    "    val_data = train_data[i * num_val_samples : (i + 1) *  num_val_samples]\n",
    "    val_targets = train_targets[i * num_val_samples : (i + 1) * num_val_samples]\n",
    "    #訓練集:\n",
    "    partial_train_data = np.concatenate([train_data[:i * num_val_samples], train_data[(i + 1) * num_val_samples:]], axis=0)\n",
    "    partial_train_targets = np.concatenate([train_targets[:i * num_val_samples], train_targets[(i + 1) * num_val_samples:]], axis=0)\n",
    "    \n",
    "    model = build_model() #建構keras模型(已compile)\n",
    "    #訓練模型\n",
    "    model.fit(partial_train_data, partial_train_targets,\n",
    "             epochs=num_epochs,\n",
    "             batch_size=1,\n",
    "             verbose=0) #在silent靜音模式下verbose = 0\n",
    "    \n",
    "    #驗證模型\n",
    "    val_mse, val_mae = model.evaluate(val_data, val_targets, verbose=0)\n",
    "    all_scores.append(val_mae)"
   ]
  },
  {
   "cell_type": "code",
   "execution_count": 14,
   "id": "28857179",
   "metadata": {
    "execution": {
     "iopub.execute_input": "2022-08-10T04:58:24.106181Z",
     "iopub.status.busy": "2022-08-10T04:58:24.105771Z",
     "iopub.status.idle": "2022-08-10T04:58:24.113624Z",
     "shell.execute_reply": "2022-08-10T04:58:24.112477Z"
    },
    "papermill": {
     "duration": 0.019762,
     "end_time": "2022-08-10T04:58:24.116077",
     "exception": false,
     "start_time": "2022-08-10T04:58:24.096315",
     "status": "completed"
    },
    "tags": []
   },
   "outputs": [
    {
     "data": {
      "text/plain": [
       "[2.1812174320220947, 2.402306079864502, 2.6275060176849365, 2.5083675384521484]"
      ]
     },
     "execution_count": 14,
     "metadata": {},
     "output_type": "execute_result"
    }
   ],
   "source": [
    "all_scores"
   ]
  },
  {
   "cell_type": "code",
   "execution_count": 15,
   "id": "f03fe1a3",
   "metadata": {
    "execution": {
     "iopub.execute_input": "2022-08-10T04:58:24.133523Z",
     "iopub.status.busy": "2022-08-10T04:58:24.133092Z",
     "iopub.status.idle": "2022-08-10T04:58:24.140302Z",
     "shell.execute_reply": "2022-08-10T04:58:24.139113Z"
    },
    "papermill": {
     "duration": 0.019007,
     "end_time": "2022-08-10T04:58:24.142929",
     "exception": false,
     "start_time": "2022-08-10T04:58:24.123922",
     "status": "completed"
    },
    "tags": []
   },
   "outputs": [
    {
     "data": {
      "text/plain": [
       "2.4298492670059204"
      ]
     },
     "execution_count": 15,
     "metadata": {},
     "output_type": "execute_result"
    }
   ],
   "source": [
    "np.mean(all_scores)"
   ]
  },
  {
   "cell_type": "code",
   "execution_count": 16,
   "id": "d78c016b",
   "metadata": {
    "execution": {
     "iopub.execute_input": "2022-08-10T04:58:24.161564Z",
     "iopub.status.busy": "2022-08-10T04:58:24.160322Z",
     "iopub.status.idle": "2022-08-10T05:17:31.170278Z",
     "shell.execute_reply": "2022-08-10T05:17:31.168947Z"
    },
    "papermill": {
     "duration": 1147.022665,
     "end_time": "2022-08-10T05:17:31.173580",
     "exception": false,
     "start_time": "2022-08-10T04:58:24.150915",
     "status": "completed"
    },
    "tags": []
   },
   "outputs": [
    {
     "name": "stdout",
     "output_type": "stream",
     "text": [
      "processing fold # 0\n",
      "processing fold # 1\n",
      "processing fold # 2\n",
      "processing fold # 3\n"
     ]
    }
   ],
   "source": [
    "num_epochs = 500\n",
    "all_mae_histories = []\n",
    "\n",
    "for i in range(k):\n",
    "    print('processing fold #', i)\n",
    "    #驗證集:\n",
    "    val_data = train_data[i * num_val_samples : (i + 1) *  num_val_samples]\n",
    "    val_targets = train_targets[i * num_val_samples : (i + 1) * num_val_samples]\n",
    "    #訓練集:\n",
    "    partial_train_data = np.concatenate([train_data[:i * num_val_samples], train_data[(i + 1) * num_val_samples:]], axis=0)\n",
    "    partial_train_targets = np.concatenate([train_targets[:i * num_val_samples], train_targets[(i + 1) * num_val_samples:]], axis=0)\n",
    "    \n",
    "    model = build_model() #建構keras模型(已compile)\n",
    "    #訓練模型\n",
    "    history = model.fit(partial_train_data, partial_train_targets,\n",
    "                     validation_data=(val_data, val_targets),\n",
    "                     epochs=num_epochs,\n",
    "                     batch_size=1,\n",
    "                     verbose=0) #在silent靜音模式下verbose = 0\n",
    "\n",
    "    mae_history = history.history['mae']\n",
    "    all_mae_histories.append(mae_history)"
   ]
  },
  {
   "cell_type": "code",
   "execution_count": 17,
   "id": "0842213d",
   "metadata": {
    "execution": {
     "iopub.execute_input": "2022-08-10T05:17:31.192892Z",
     "iopub.status.busy": "2022-08-10T05:17:31.192386Z",
     "iopub.status.idle": "2022-08-10T05:17:31.205580Z",
     "shell.execute_reply": "2022-08-10T05:17:31.204193Z"
    },
    "papermill": {
     "duration": 0.025733,
     "end_time": "2022-08-10T05:17:31.208173",
     "exception": false,
     "start_time": "2022-08-10T05:17:31.182440",
     "status": "completed"
    },
    "tags": []
   },
   "outputs": [],
   "source": [
    "#建立連續平均K折驗證分數的歷史\n",
    "average_mae_history = [np.mean([x[i] for x in all_mae_histories]) for i in range(num_epochs)]"
   ]
  },
  {
   "cell_type": "code",
   "execution_count": 18,
   "id": "ece5dfc0",
   "metadata": {
    "execution": {
     "iopub.execute_input": "2022-08-10T05:17:31.227331Z",
     "iopub.status.busy": "2022-08-10T05:17:31.226558Z",
     "iopub.status.idle": "2022-08-10T05:17:31.451827Z",
     "shell.execute_reply": "2022-08-10T05:17:31.450454Z"
    },
    "papermill": {
     "duration": 0.238488,
     "end_time": "2022-08-10T05:17:31.455109",
     "exception": false,
     "start_time": "2022-08-10T05:17:31.216621",
     "status": "completed"
    },
    "tags": []
   },
   "outputs": [
    {
     "data": {
      "image/png": "[encoded data removed]",
      "text/plain": [
       "<Figure size 432x288 with 1 Axes>"
      ]
     },
     "metadata": {
      "needs_background": "light"
     },
     "output_type": "display_data"
    }
   ],
   "source": [
    "#繪製驗證分數\n",
    "import matplotlib.pyplot as plt\n",
    "\n",
    "plt.plot(range(1, len(average_mae_history) + 1), average_mae_history)\n",
    "plt.xlabel('Epochs')\n",
    "plt.ylabel('Validation MAE')\n",
    "\n",
    "plt.show()"
   ]
  },
  {
   "cell_type": "code",
   "execution_count": 19,
   "id": "e08b0cd4",
   "metadata": {
    "execution": {
     "iopub.execute_input": "2022-08-10T05:17:31.474623Z",
     "iopub.status.busy": "2022-08-10T05:17:31.474147Z",
     "iopub.status.idle": "2022-08-10T05:17:31.481567Z",
     "shell.execute_reply": "2022-08-10T05:17:31.480287Z"
    },
    "papermill": {
     "duration": 0.020091,
     "end_time": "2022-08-10T05:17:31.484084",
     "exception": false,
     "start_time": "2022-08-10T05:17:31.463993",
     "status": "completed"
    },
    "tags": []
   },
   "outputs": [],
   "source": [
    "#排除前十資料點，並將每個點替換成前一個點的指數移動平均值(EMA: exponential moving average)\n",
    "#E(t) = a * V(t) + (1 - a) * E(t-1)\n",
    "#E(t): 時間點t的指數移動平均值, a: 平滑指數(通常介於0~1), V(t): 時間點t的原始數值, E(t-1): 時間點t-1的指數移動平均值\n",
    "\n",
    "def smooth_curve(points, factor=0.9): #平滑指數為0.9\n",
    "    smoothed_points = []\n",
    "    \n",
    "    for point in points:\n",
    "        if smoothed_points:\n",
    "            previous = smoothed_points[-1]\n",
    "            smoothed_points.append(previous * factor + point * (1 - factor)) #指數移動平均數\n",
    "        else:\n",
    "            smoothed_points.append(point)\n",
    "    \n",
    "    return smoothed_points"
   ]
  },
  {
   "cell_type": "code",
   "execution_count": 20,
   "id": "d8b964d2",
   "metadata": {
    "execution": {
     "iopub.execute_input": "2022-08-10T05:17:31.504775Z",
     "iopub.status.busy": "2022-08-10T05:17:31.503438Z",
     "iopub.status.idle": "2022-08-10T05:17:31.509914Z",
     "shell.execute_reply": "2022-08-10T05:17:31.508931Z"
    },
    "papermill": {
     "duration": 0.020847,
     "end_time": "2022-08-10T05:17:31.513342",
     "exception": false,
     "start_time": "2022-08-10T05:17:31.492495",
     "status": "completed"
    },
    "tags": []
   },
   "outputs": [],
   "source": [
    "smooth_mae_history = smooth_curve(average_mae_history[10:]) #排除前十筆資料"
   ]
  },
  {
   "cell_type": "code",
   "execution_count": 21,
   "id": "a5248bcf",
   "metadata": {
    "execution": {
     "iopub.execute_input": "2022-08-10T05:17:31.533821Z",
     "iopub.status.busy": "2022-08-10T05:17:31.532960Z",
     "iopub.status.idle": "2022-08-10T05:17:31.730548Z",
     "shell.execute_reply": "2022-08-10T05:17:31.729473Z"
    },
    "papermill": {
     "duration": 0.210604,
     "end_time": "2022-08-10T05:17:31.733370",
     "exception": false,
     "start_time": "2022-08-10T05:17:31.522766",
     "status": "completed"
    },
    "tags": []
   },
   "outputs": [
    {
     "data": {
      "image/png": "[encoded data removed]",
      "text/plain": [
       "<Figure size 432x288 with 1 Axes>"
      ]
     },
     "metadata": {
      "needs_background": "light"
     },
     "output_type": "display_data"
    }
   ],
   "source": [
    "plt.plot(range(1, len(smooth_mae_history) + 1), smooth_mae_history)\n",
    "plt.xlabel('Epochs')\n",
    "plt.ylabel('Validation MAE')\n",
    "\n",
    "plt.show()"
   ]
  },
  {
   "cell_type": "code",
   "execution_count": 22,
   "id": "1fd9500c",
   "metadata": {
    "execution": {
     "iopub.execute_input": "2022-08-10T05:17:31.753895Z",
     "iopub.status.busy": "2022-08-10T05:17:31.753170Z",
     "iopub.status.idle": "2022-08-10T05:17:36.327740Z",
     "shell.execute_reply": "2022-08-10T05:17:36.326432Z"
    },
    "papermill": {
     "duration": 4.588489,
     "end_time": "2022-08-10T05:17:36.331215",
     "exception": false,
     "start_time": "2022-08-10T05:17:31.742726",
     "status": "completed"
    },
    "tags": []
   },
   "outputs": [
    {
     "data": {
      "text/plain": [
       "<keras.callbacks.History at 0x7fced0058dd0>"
      ]
     },
     "execution_count": 22,
     "metadata": {},
     "output_type": "execute_result"
    }
   ],
   "source": [
    "#訓練最終模型(假設MAE在epochs=80後開始上升 -> overfitting(過度適配))\n",
    "#調整epochs, batch_size, 隱藏層大小、層數, 模型參數\n",
    "model = build_model()\n",
    "model.fit(train_data, train_targets,\n",
    "         epochs = 80, \n",
    "         batch_size=16,\n",
    "         verbose=0)"
   ]
  },
  {
   "cell_type": "code",
   "execution_count": 23,
   "id": "0f3ea747",
   "metadata": {
    "execution": {
     "iopub.execute_input": "2022-08-10T05:17:36.352180Z",
     "iopub.status.busy": "2022-08-10T05:17:36.351772Z",
     "iopub.status.idle": "2022-08-10T05:17:36.542120Z",
     "shell.execute_reply": "2022-08-10T05:17:36.540910Z"
    },
    "papermill": {
     "duration": 0.204315,
     "end_time": "2022-08-10T05:17:36.545325",
     "exception": false,
     "start_time": "2022-08-10T05:17:36.341010",
     "status": "completed"
    },
    "tags": []
   },
   "outputs": [
    {
     "name": "stdout",
     "output_type": "stream",
     "text": [
      "4/4 [==============================] - 0s 3ms/step - loss: 16.9311 - mae: 2.5054\n"
     ]
    }
   ],
   "source": [
    "#測試集結果\n",
    "test_mse_score, test_mae_score = model.evaluate(test_data, test_targets)"
   ]
  },
  {
   "cell_type": "code",
   "execution_count": 24,
   "id": "ec2c0d7f",
   "metadata": {
    "execution": {
     "iopub.execute_input": "2022-08-10T05:17:36.565900Z",
     "iopub.status.busy": "2022-08-10T05:17:36.565411Z",
     "iopub.status.idle": "2022-08-10T05:17:36.573070Z",
     "shell.execute_reply": "2022-08-10T05:17:36.571842Z"
    },
    "papermill": {
     "duration": 0.020919,
     "end_time": "2022-08-10T05:17:36.575392",
     "exception": false,
     "start_time": "2022-08-10T05:17:36.554473",
     "status": "completed"
    },
    "tags": []
   },
   "outputs": [
    {
     "data": {
      "text/plain": [
       "2.5053725242614746"
      ]
     },
     "execution_count": 24,
     "metadata": {},
     "output_type": "execute_result"
    }
   ],
   "source": [
    "test_mae_score"
   ]
  }
 ],
 "metadata": {
  "kernelspec": {
   "display_name": "Python 3.11.0a6 64-bit",
   "language": "python",
   "name": "python3"
  },
  "language_info": {
   "codemirror_mode": {
    "name": "ipython",
    "version": 3
   },
   "file_extension": ".py",
   "mimetype": "text/x-python",
   "name": "python",
   "nbconvert_exporter": "python",
   "pygments_lexer": "ipython3",
   "version": "3.11.0"
  },
  "papermill": {
   "default_parameters": {},
   "duration": 1336.706228,
   "end_time": "2022-08-10T05:17:39.260070",
   "environment_variables": {},
   "exception": null,
   "input_path": "__notebook__.ipynb",
   "output_path": "__notebook__.ipynb",
   "parameters": {},
   "start_time": "2022-08-10T04:55:22.553842",
   "version": "2.3.4"
  },
  "vscode": {
   "interpreter": {
    "hash": "c261aea317cc0286b3b3261fbba9abdec21eaa57589985bb7a274bf54d6cc0a7"
   }
  }
 },
 "nbformat": 4,
 "nbformat_minor": 5
}
