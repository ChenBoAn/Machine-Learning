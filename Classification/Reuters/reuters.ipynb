{
 "cells": [
  {
   "cell_type": "code",
   "execution_count": 1,
   "id": "c610f70f",
   "metadata": {
    "_cell_guid": "b1076dfc-b9ad-4769-8c92-a6c4dae69d19",
    "_uuid": "8f2839f25d086af736a60e9eeb907d3b93b6e0e5",
    "execution": {
     "iopub.execute_input": "2022-08-08T15:34:36.488320Z",
     "iopub.status.busy": "2022-08-08T15:34:36.487227Z",
     "iopub.status.idle": "2022-08-08T15:34:36.500296Z",
     "shell.execute_reply": "2022-08-08T15:34:36.499259Z"
    },
    "papermill": {
     "duration": 0.027358,
     "end_time": "2022-08-08T15:34:36.502710",
     "exception": false,
     "start_time": "2022-08-08T15:34:36.475352",
     "status": "completed"
    },
    "tags": []
   },
   "outputs": [],
   "source": [
    "# This Python 3 environment comes with many helpful analytics libraries installed\n",
    "# It is defined by the kaggle/python Docker image: https://github.com/kaggle/docker-python\n",
    "# For example, here's several helpful packages to load\n",
    "\n",
    "import numpy as np # linear algebra\n",
    "import pandas as pd # data processing, CSV file I/O (e.g. pd.read_csv)\n",
    "\n",
    "# Input data files are available in the read-only \"../input/\" directory\n",
    "# For example, running this (by clicking run or pressing Shift+Enter) will list all files under the input directory\n",
    "\n",
    "import os\n",
    "for dirname, _, filenames in os.walk('/kaggle/input'):\n",
    "    for filename in filenames:\n",
    "        print(os.path.join(dirname, filename))\n",
    "\n",
    "# You can write up to 20GB to the current directory (/kaggle/working/) that gets preserved as output when you create a version using \"Save & Run All\" \n",
    "# You can also write temporary files to /kaggle/temp/, but they won't be saved outside of the current session"
   ]
  },
  {
   "cell_type": "code",
   "execution_count": 2,
   "id": "a4e40e1c",
   "metadata": {
    "execution": {
     "iopub.execute_input": "2022-08-08T15:34:36.522124Z",
     "iopub.status.busy": "2022-08-08T15:34:36.521413Z",
     "iopub.status.idle": "2022-08-08T15:34:42.398082Z",
     "shell.execute_reply": "2022-08-08T15:34:42.396895Z"
    },
    "papermill": {
     "duration": 5.889309,
     "end_time": "2022-08-08T15:34:42.400853",
     "exception": false,
     "start_time": "2022-08-08T15:34:36.511544",
     "status": "completed"
    },
    "tags": []
   },
   "outputs": [],
   "source": [
    "from keras.datasets import reuters"
   ]
  },
  {
   "cell_type": "code",
   "execution_count": 3,
   "id": "840baa96",
   "metadata": {
    "execution": {
     "iopub.execute_input": "2022-08-08T15:34:42.420842Z",
     "iopub.status.busy": "2022-08-08T15:34:42.419963Z",
     "iopub.status.idle": "2022-08-08T15:34:43.738919Z",
     "shell.execute_reply": "2022-08-08T15:34:43.737566Z"
    },
    "papermill": {
     "duration": 1.332171,
     "end_time": "2022-08-08T15:34:43.741977",
     "exception": false,
     "start_time": "2022-08-08T15:34:42.409806",
     "status": "completed"
    },
    "tags": []
   },
   "outputs": [
    {
     "name": "stdout",
     "output_type": "stream",
     "text": [
      "Downloading data from https://storage.googleapis.com/tensorflow/tf-keras-datasets/reuters.npz\n",
      "2113536/2110848 [==============================] - 0s 0us/step\n",
      "2121728/2110848 [==============================] - 0s 0us/step\n"
     ]
    }
   ],
   "source": [
    "(train_data, train_labels), (test_data, test_labels) = reuters.load_data(num_words=10000)"
   ]
  },
  {
   "cell_type": "code",
   "execution_count": 4,
   "id": "de208535",
   "metadata": {
    "execution": {
     "iopub.execute_input": "2022-08-08T15:34:43.762567Z",
     "iopub.status.busy": "2022-08-08T15:34:43.762163Z",
     "iopub.status.idle": "2022-08-08T15:34:43.772013Z",
     "shell.execute_reply": "2022-08-08T15:34:43.770658Z"
    },
    "papermill": {
     "duration": 0.023008,
     "end_time": "2022-08-08T15:34:43.774666",
     "exception": false,
     "start_time": "2022-08-08T15:34:43.751658",
     "status": "completed"
    },
    "tags": []
   },
   "outputs": [
    {
     "data": {
      "text/plain": [
       "(8982, 2246)"
      ]
     },
     "execution_count": 4,
     "metadata": {},
     "output_type": "execute_result"
    }
   ],
   "source": [
    "len(train_data), len(test_data)"
   ]
  },
  {
   "cell_type": "code",
   "execution_count": 5,
   "id": "47d2371d",
   "metadata": {
    "execution": {
     "iopub.execute_input": "2022-08-08T15:34:43.796479Z",
     "iopub.status.busy": "2022-08-08T15:34:43.796005Z",
     "iopub.status.idle": "2022-08-08T15:34:44.253337Z",
     "shell.execute_reply": "2022-08-08T15:34:44.252327Z"
    },
    "papermill": {
     "duration": 0.472137,
     "end_time": "2022-08-08T15:34:44.255890",
     "exception": false,
     "start_time": "2022-08-08T15:34:43.783753",
     "status": "completed"
    },
    "tags": []
   },
   "outputs": [
    {
     "name": "stdout",
     "output_type": "stream",
     "text": [
      "Downloading data from https://storage.googleapis.com/tensorflow/tf-keras-datasets/reuters_word_index.json\n",
      "557056/550378 [==============================] - 0s 0us/step\n",
      "565248/550378 [==============================] - 0s 0us/step\n"
     ]
    }
   ],
   "source": [
    "#decode\n",
    "word_index = reuters.get_word_index()\n",
    "reverse_word_index = dict([(value, key) for (key, value) in word_index.items()])\n",
    "decoded_newswire = ' '.join([reverse_word_index.get(i - 3, '?') for i in train_data[0]])"
   ]
  },
  {
   "cell_type": "code",
   "execution_count": 6,
   "id": "4d18494b",
   "metadata": {
    "execution": {
     "iopub.execute_input": "2022-08-08T15:34:44.276743Z",
     "iopub.status.busy": "2022-08-08T15:34:44.276107Z",
     "iopub.status.idle": "2022-08-08T15:34:44.282967Z",
     "shell.execute_reply": "2022-08-08T15:34:44.281853Z"
    },
    "papermill": {
     "duration": 0.019706,
     "end_time": "2022-08-08T15:34:44.285265",
     "exception": false,
     "start_time": "2022-08-08T15:34:44.265559",
     "status": "completed"
    },
    "tags": []
   },
   "outputs": [
    {
     "data": {
      "text/plain": [
       "'? ? ? said as a result of its december acquisition of space co it expects earnings per share in 1987 of 1 15 to 1 30 dlrs per share up from 70 cts in 1986 the company said pretax net should rise to nine to 10 mln dlrs from six mln dlrs in 1986 and rental operation revenues to 19 to 22 mln dlrs from 12 5 mln dlrs it said cash flow per share this year should be 2 50 to three dlrs reuter 3'"
      ]
     },
     "execution_count": 6,
     "metadata": {},
     "output_type": "execute_result"
    }
   ],
   "source": [
    "decoded_newswire"
   ]
  },
  {
   "cell_type": "code",
   "execution_count": 7,
   "id": "48268db3",
   "metadata": {
    "execution": {
     "iopub.execute_input": "2022-08-08T15:34:44.305619Z",
     "iopub.status.busy": "2022-08-08T15:34:44.305225Z",
     "iopub.status.idle": "2022-08-08T15:34:44.312094Z",
     "shell.execute_reply": "2022-08-08T15:34:44.310903Z"
    },
    "papermill": {
     "duration": 0.019927,
     "end_time": "2022-08-08T15:34:44.314421",
     "exception": false,
     "start_time": "2022-08-08T15:34:44.294494",
     "status": "completed"
    },
    "tags": []
   },
   "outputs": [
    {
     "data": {
      "text/plain": [
       "3"
      ]
     },
     "execution_count": 7,
     "metadata": {},
     "output_type": "execute_result"
    }
   ],
   "source": [
    "train_labels[10]"
   ]
  },
  {
   "cell_type": "code",
   "execution_count": 8,
   "id": "8c34565f",
   "metadata": {
    "execution": {
     "iopub.execute_input": "2022-08-08T15:34:44.335497Z",
     "iopub.status.busy": "2022-08-08T15:34:44.335133Z",
     "iopub.status.idle": "2022-08-08T15:34:44.339804Z",
     "shell.execute_reply": "2022-08-08T15:34:44.338615Z"
    },
    "papermill": {
     "duration": 0.017612,
     "end_time": "2022-08-08T15:34:44.342236",
     "exception": false,
     "start_time": "2022-08-08T15:34:44.324624",
     "status": "completed"
    },
    "tags": []
   },
   "outputs": [],
   "source": [
    "# 資料向量化[list -> 張量, one-hot(categorial encoding 分類編碼)]\n",
    "import numpy as np"
   ]
  },
  {
   "cell_type": "code",
   "execution_count": 9,
   "id": "6b0d4aee",
   "metadata": {
    "execution": {
     "iopub.execute_input": "2022-08-08T15:34:44.363352Z",
     "iopub.status.busy": "2022-08-08T15:34:44.362835Z",
     "iopub.status.idle": "2022-08-08T15:34:44.369101Z",
     "shell.execute_reply": "2022-08-08T15:34:44.368226Z"
    },
    "papermill": {
     "duration": 0.019544,
     "end_time": "2022-08-08T15:34:44.371660",
     "exception": false,
     "start_time": "2022-08-08T15:34:44.352116",
     "status": "completed"
    },
    "tags": []
   },
   "outputs": [],
   "source": [
    "def vectorize_sequences(sequences, dimension=10000):\n",
    "    results = np.zeros((len(sequences), dimension))\n",
    "    for i, sequence in enumerate(sequences):\n",
    "        results[i, sequence] = 1.\n",
    "    return results"
   ]
  },
  {
   "cell_type": "code",
   "execution_count": 10,
   "id": "7ea45455",
   "metadata": {
    "execution": {
     "iopub.execute_input": "2022-08-08T15:34:44.401786Z",
     "iopub.status.busy": "2022-08-08T15:34:44.401410Z",
     "iopub.status.idle": "2022-08-08T15:34:44.923636Z",
     "shell.execute_reply": "2022-08-08T15:34:44.922421Z"
    },
    "papermill": {
     "duration": 0.540608,
     "end_time": "2022-08-08T15:34:44.926577",
     "exception": false,
     "start_time": "2022-08-08T15:34:44.385969",
     "status": "completed"
    },
    "tags": []
   },
   "outputs": [],
   "source": [
    "x_train = vectorize_sequences(train_data)\n",
    "x_test = vectorize_sequences(test_data)"
   ]
  },
  {
   "cell_type": "code",
   "execution_count": 11,
   "id": "741502dc",
   "metadata": {
    "execution": {
     "iopub.execute_input": "2022-08-08T15:34:44.947984Z",
     "iopub.status.busy": "2022-08-08T15:34:44.947538Z",
     "iopub.status.idle": "2022-08-08T15:34:44.956071Z",
     "shell.execute_reply": "2022-08-08T15:34:44.955018Z"
    },
    "papermill": {
     "duration": 0.021791,
     "end_time": "2022-08-08T15:34:44.958465",
     "exception": false,
     "start_time": "2022-08-08T15:34:44.936674",
     "status": "completed"
    },
    "tags": []
   },
   "outputs": [
    {
     "data": {
      "text/plain": [
       "(array([[0., 1., 1., ..., 0., 0., 0.],\n",
       "        [0., 1., 1., ..., 0., 0., 0.],\n",
       "        [0., 1., 1., ..., 0., 0., 0.],\n",
       "        ...,\n",
       "        [0., 1., 1., ..., 0., 0., 0.],\n",
       "        [0., 1., 1., ..., 0., 0., 0.],\n",
       "        [0., 1., 1., ..., 0., 0., 0.]]),\n",
       " array([[0., 1., 1., ..., 0., 0., 0.],\n",
       "        [0., 1., 1., ..., 0., 0., 0.],\n",
       "        [0., 1., 1., ..., 0., 0., 0.],\n",
       "        ...,\n",
       "        [0., 1., 0., ..., 0., 0., 0.],\n",
       "        [0., 1., 1., ..., 0., 0., 0.],\n",
       "        [0., 1., 1., ..., 0., 0., 0.]]))"
      ]
     },
     "execution_count": 11,
     "metadata": {},
     "output_type": "execute_result"
    }
   ],
   "source": [
    "x_train, x_test"
   ]
  },
  {
   "cell_type": "code",
   "execution_count": 12,
   "id": "a6b95146",
   "metadata": {
    "execution": {
     "iopub.execute_input": "2022-08-08T15:34:44.979275Z",
     "iopub.status.busy": "2022-08-08T15:34:44.978848Z",
     "iopub.status.idle": "2022-08-08T15:34:44.984709Z",
     "shell.execute_reply": "2022-08-08T15:34:44.983926Z"
    },
    "papermill": {
     "duration": 0.019089,
     "end_time": "2022-08-08T15:34:44.987078",
     "exception": false,
     "start_time": "2022-08-08T15:34:44.967989",
     "status": "completed"
    },
    "tags": []
   },
   "outputs": [],
   "source": [
    "#標籤向量化[list -> 張量, one-hot(categorial encoding 分類編碼)]\n",
    "def to_one_hot(labels, dimension=46):\n",
    "    results = np.zeros((len(labels), dimension))\n",
    "    for i, label in enumerate(labels):\n",
    "        results[i, label] = 1.\n",
    "    return results\n",
    "    "
   ]
  },
  {
   "cell_type": "code",
   "execution_count": 13,
   "id": "cac52d9d",
   "metadata": {
    "execution": {
     "iopub.execute_input": "2022-08-08T15:34:45.008263Z",
     "iopub.status.busy": "2022-08-08T15:34:45.007599Z",
     "iopub.status.idle": "2022-08-08T15:34:45.016594Z",
     "shell.execute_reply": "2022-08-08T15:34:45.015474Z"
    },
    "papermill": {
     "duration": 0.022364,
     "end_time": "2022-08-08T15:34:45.019179",
     "exception": false,
     "start_time": "2022-08-08T15:34:44.996815",
     "status": "completed"
    },
    "tags": []
   },
   "outputs": [],
   "source": [
    "one_hot_train_labels = to_one_hot(train_labels)\n",
    "one_hot_test_labels = to_one_hot(test_labels)"
   ]
  },
  {
   "cell_type": "code",
   "execution_count": 14,
   "id": "edc1c76a",
   "metadata": {
    "execution": {
     "iopub.execute_input": "2022-08-08T15:34:45.040235Z",
     "iopub.status.busy": "2022-08-08T15:34:45.039463Z",
     "iopub.status.idle": "2022-08-08T15:34:45.046744Z",
     "shell.execute_reply": "2022-08-08T15:34:45.045952Z"
    },
    "papermill": {
     "duration": 0.01988,
     "end_time": "2022-08-08T15:34:45.048693",
     "exception": false,
     "start_time": "2022-08-08T15:34:45.028813",
     "status": "completed"
    },
    "tags": []
   },
   "outputs": [
    {
     "data": {
      "text/plain": [
       "(array([[0., 0., 0., ..., 0., 0., 0.],\n",
       "        [0., 0., 0., ..., 0., 0., 0.],\n",
       "        [0., 0., 0., ..., 0., 0., 0.],\n",
       "        ...,\n",
       "        [0., 0., 0., ..., 0., 0., 0.],\n",
       "        [0., 0., 0., ..., 0., 0., 0.],\n",
       "        [0., 0., 0., ..., 0., 0., 0.]]),\n",
       " array([[0., 0., 0., ..., 0., 0., 0.],\n",
       "        [0., 0., 0., ..., 0., 0., 0.],\n",
       "        [0., 1., 0., ..., 0., 0., 0.],\n",
       "        ...,\n",
       "        [0., 0., 0., ..., 0., 0., 0.],\n",
       "        [0., 0., 0., ..., 0., 0., 0.],\n",
       "        [0., 0., 0., ..., 0., 0., 0.]]))"
      ]
     },
     "execution_count": 14,
     "metadata": {},
     "output_type": "execute_result"
    }
   ],
   "source": [
    "one_hot_train_labels, one_hot_test_labels"
   ]
  },
  {
   "cell_type": "code",
   "execution_count": 15,
   "id": "dfb0404b",
   "metadata": {
    "execution": {
     "iopub.execute_input": "2022-08-08T15:34:45.070056Z",
     "iopub.status.busy": "2022-08-08T15:34:45.069322Z",
     "iopub.status.idle": "2022-08-08T15:34:45.073498Z",
     "shell.execute_reply": "2022-08-08T15:34:45.072736Z"
    },
    "papermill": {
     "duration": 0.01718,
     "end_time": "2022-08-08T15:34:45.075551",
     "exception": false,
     "start_time": "2022-08-08T15:34:45.058371",
     "status": "completed"
    },
    "tags": []
   },
   "outputs": [],
   "source": [
    "#方法二(用於標籤)\n",
    "from keras.utils.np_utils import to_categorical"
   ]
  },
  {
   "cell_type": "code",
   "execution_count": 16,
   "id": "bdffb508",
   "metadata": {
    "execution": {
     "iopub.execute_input": "2022-08-08T15:34:45.097038Z",
     "iopub.status.busy": "2022-08-08T15:34:45.096312Z",
     "iopub.status.idle": "2022-08-08T15:34:45.103397Z",
     "shell.execute_reply": "2022-08-08T15:34:45.102176Z"
    },
    "papermill": {
     "duration": 0.020394,
     "end_time": "2022-08-08T15:34:45.105630",
     "exception": false,
     "start_time": "2022-08-08T15:34:45.085236",
     "status": "completed"
    },
    "tags": []
   },
   "outputs": [],
   "source": [
    "one_hot_train_labels = to_categorical(train_labels)\n",
    "one_hot_test_labels = to_categorical(test_labels)"
   ]
  },
  {
   "cell_type": "code",
   "execution_count": 17,
   "id": "c82456fe",
   "metadata": {
    "execution": {
     "iopub.execute_input": "2022-08-08T15:34:45.126835Z",
     "iopub.status.busy": "2022-08-08T15:34:45.126184Z",
     "iopub.status.idle": "2022-08-08T15:34:45.132768Z",
     "shell.execute_reply": "2022-08-08T15:34:45.132032Z"
    },
    "papermill": {
     "duration": 0.019494,
     "end_time": "2022-08-08T15:34:45.134758",
     "exception": false,
     "start_time": "2022-08-08T15:34:45.115264",
     "status": "completed"
    },
    "tags": []
   },
   "outputs": [
    {
     "data": {
      "text/plain": [
       "(array([[0., 0., 0., ..., 0., 0., 0.],\n",
       "        [0., 0., 0., ..., 0., 0., 0.],\n",
       "        [0., 0., 0., ..., 0., 0., 0.],\n",
       "        ...,\n",
       "        [0., 0., 0., ..., 0., 0., 0.],\n",
       "        [0., 0., 0., ..., 0., 0., 0.],\n",
       "        [0., 0., 0., ..., 0., 0., 0.]], dtype=float32),\n",
       " array([[0., 0., 0., ..., 0., 0., 0.],\n",
       "        [0., 0., 0., ..., 0., 0., 0.],\n",
       "        [0., 1., 0., ..., 0., 0., 0.],\n",
       "        ...,\n",
       "        [0., 0., 0., ..., 0., 0., 0.],\n",
       "        [0., 0., 0., ..., 0., 0., 0.],\n",
       "        [0., 0., 0., ..., 0., 0., 0.]], dtype=float32))"
      ]
     },
     "execution_count": 17,
     "metadata": {},
     "output_type": "execute_result"
    }
   ],
   "source": [
    "one_hot_train_labels, one_hot_test_labels"
   ]
  },
  {
   "cell_type": "code",
   "execution_count": 18,
   "id": "d1f29d6e",
   "metadata": {
    "execution": {
     "iopub.execute_input": "2022-08-08T15:34:45.156364Z",
     "iopub.status.busy": "2022-08-08T15:34:45.155473Z",
     "iopub.status.idle": "2022-08-08T15:34:45.615234Z",
     "shell.execute_reply": "2022-08-08T15:34:45.614201Z"
    },
    "papermill": {
     "duration": 0.473426,
     "end_time": "2022-08-08T15:34:45.618003",
     "exception": false,
     "start_time": "2022-08-08T15:34:45.144577",
     "status": "completed"
    },
    "tags": []
   },
   "outputs": [],
   "source": [
    "#建立神經網路\n",
    "#輸出之類別更多，輸出空間維數需更大\n",
    "from tensorflow import keras\n",
    "from tensorflow.keras import layers"
   ]
  },
  {
   "cell_type": "code",
   "execution_count": 19,
   "id": "11b1a436",
   "metadata": {
    "execution": {
     "iopub.execute_input": "2022-08-08T15:34:45.639561Z",
     "iopub.status.busy": "2022-08-08T15:34:45.638864Z",
     "iopub.status.idle": "2022-08-08T15:34:45.768365Z",
     "shell.execute_reply": "2022-08-08T15:34:45.767008Z"
    },
    "papermill": {
     "duration": 0.14472,
     "end_time": "2022-08-08T15:34:45.772622",
     "exception": false,
     "start_time": "2022-08-08T15:34:45.627902",
     "status": "completed"
    },
    "tags": []
   },
   "outputs": [
    {
     "name": "stderr",
     "output_type": "stream",
     "text": [
      "2022-08-08 15:34:45.685122: I tensorflow/core/common_runtime/process_util.cc:146] Creating new thread pool with default inter op setting: 2. Tune using inter_op_parallelism_threads for best performance.\n"
     ]
    }
   ],
   "source": [
    "model = keras.Sequential([\n",
    "    layers.Dense(64, activation='relu', input_shape=(10000,)),\n",
    "    layers.Dense(64, activation='relu'),\n",
    "    layers.Dense(46, activation='softmax')\n",
    "])"
   ]
  },
  {
   "cell_type": "code",
   "execution_count": 20,
   "id": "7fe3aabd",
   "metadata": {
    "execution": {
     "iopub.execute_input": "2022-08-08T15:34:45.795241Z",
     "iopub.status.busy": "2022-08-08T15:34:45.794089Z",
     "iopub.status.idle": "2022-08-08T15:34:45.806931Z",
     "shell.execute_reply": "2022-08-08T15:34:45.806060Z"
    },
    "papermill": {
     "duration": 0.02617,
     "end_time": "2022-08-08T15:34:45.809170",
     "exception": false,
     "start_time": "2022-08-08T15:34:45.783000",
     "status": "completed"
    },
    "tags": []
   },
   "outputs": [],
   "source": [
    "model.compile(optimizer='rmsprop',\n",
    "             loss='categorical_crossentropy',\n",
    "             metrics=['acc'])"
   ]
  },
  {
   "cell_type": "code",
   "execution_count": 21,
   "id": "3f431044",
   "metadata": {
    "execution": {
     "iopub.execute_input": "2022-08-08T15:34:45.831802Z",
     "iopub.status.busy": "2022-08-08T15:34:45.831124Z",
     "iopub.status.idle": "2022-08-08T15:34:45.836258Z",
     "shell.execute_reply": "2022-08-08T15:34:45.835159Z"
    },
    "papermill": {
     "duration": 0.01861,
     "end_time": "2022-08-08T15:34:45.838474",
     "exception": false,
     "start_time": "2022-08-08T15:34:45.819864",
     "status": "completed"
    },
    "tags": []
   },
   "outputs": [],
   "source": [
    "x_val = x_train[:1000]\n",
    "partial_x_train = x_train[1000:]\n",
    "\n",
    "y_val = one_hot_train_labels[:1000]\n",
    "partial_y_train = one_hot_train_labels[1000:]"
   ]
  },
  {
   "cell_type": "code",
   "execution_count": 22,
   "id": "7f788214",
   "metadata": {
    "execution": {
     "iopub.execute_input": "2022-08-08T15:34:45.859796Z",
     "iopub.status.busy": "2022-08-08T15:34:45.859384Z",
     "iopub.status.idle": "2022-08-08T15:34:55.607471Z",
     "shell.execute_reply": "2022-08-08T15:34:55.606133Z"
    },
    "papermill": {
     "duration": 9.76194,
     "end_time": "2022-08-08T15:34:55.610292",
     "exception": false,
     "start_time": "2022-08-08T15:34:45.848352",
     "status": "completed"
    },
    "tags": []
   },
   "outputs": [
    {
     "name": "stderr",
     "output_type": "stream",
     "text": [
      "2022-08-08 15:34:46.523003: I tensorflow/compiler/mlir/mlir_graph_optimization_pass.cc:185] None of the MLIR Optimization Passes are enabled (registered 2)\n"
     ]
    },
    {
     "name": "stdout",
     "output_type": "stream",
     "text": [
      "Epoch 1/20\n",
      "16/16 [==============================] - 1s 42ms/step - loss: 2.5114 - acc: 0.5010 - val_loss: 1.6690 - val_acc: 0.6410\n",
      "Epoch 2/20\n",
      "16/16 [==============================] - 0s 25ms/step - loss: 1.3915 - acc: 0.7046 - val_loss: 1.3049 - val_acc: 0.7130\n",
      "Epoch 3/20\n",
      "16/16 [==============================] - 0s 29ms/step - loss: 1.0380 - acc: 0.7785 - val_loss: 1.1229 - val_acc: 0.7610\n",
      "Epoch 4/20\n",
      "16/16 [==============================] - 0s 25ms/step - loss: 0.8035 - acc: 0.8312 - val_loss: 1.0175 - val_acc: 0.7910\n",
      "Epoch 5/20\n",
      "16/16 [==============================] - 0s 24ms/step - loss: 0.6427 - acc: 0.8671 - val_loss: 0.9518 - val_acc: 0.8070\n",
      "Epoch 6/20\n",
      "16/16 [==============================] - 0s 25ms/step - loss: 0.5076 - acc: 0.8963 - val_loss: 0.9557 - val_acc: 0.7890\n",
      "Epoch 7/20\n",
      "16/16 [==============================] - 0s 25ms/step - loss: 0.4140 - acc: 0.9158 - val_loss: 0.9028 - val_acc: 0.8080\n",
      "Epoch 8/20\n",
      "16/16 [==============================] - 0s 25ms/step - loss: 0.3352 - acc: 0.9302 - val_loss: 0.9131 - val_acc: 0.8050\n",
      "Epoch 9/20\n",
      "16/16 [==============================] - 0s 24ms/step - loss: 0.2775 - acc: 0.9396 - val_loss: 0.8792 - val_acc: 0.8220\n",
      "Epoch 10/20\n",
      "16/16 [==============================] - 0s 25ms/step - loss: 0.2339 - acc: 0.9459 - val_loss: 0.9131 - val_acc: 0.8180\n",
      "Epoch 11/20\n",
      "16/16 [==============================] - 0s 25ms/step - loss: 0.2022 - acc: 0.9496 - val_loss: 0.9161 - val_acc: 0.8160\n",
      "Epoch 12/20\n",
      "16/16 [==============================] - 0s 25ms/step - loss: 0.1763 - acc: 0.9530 - val_loss: 0.9547 - val_acc: 0.8130\n",
      "Epoch 13/20\n",
      "16/16 [==============================] - 0s 25ms/step - loss: 0.1654 - acc: 0.9519 - val_loss: 0.9496 - val_acc: 0.8180\n",
      "Epoch 14/20\n",
      "16/16 [==============================] - 0s 25ms/step - loss: 0.1506 - acc: 0.9531 - val_loss: 1.0038 - val_acc: 0.8080\n",
      "Epoch 15/20\n",
      "16/16 [==============================] - 0s 25ms/step - loss: 0.1349 - acc: 0.9563 - val_loss: 1.0255 - val_acc: 0.8040\n",
      "Epoch 16/20\n",
      "16/16 [==============================] - 0s 25ms/step - loss: 0.1319 - acc: 0.9565 - val_loss: 1.0563 - val_acc: 0.8010\n",
      "Epoch 17/20\n",
      "16/16 [==============================] - 0s 24ms/step - loss: 0.1240 - acc: 0.9573 - val_loss: 1.0024 - val_acc: 0.8130\n",
      "Epoch 18/20\n",
      "16/16 [==============================] - 0s 27ms/step - loss: 0.1161 - acc: 0.9564 - val_loss: 1.0882 - val_acc: 0.8000\n",
      "Epoch 19/20\n",
      "16/16 [==============================] - 0s 24ms/step - loss: 0.1152 - acc: 0.9567 - val_loss: 1.1202 - val_acc: 0.7940\n",
      "Epoch 20/20\n",
      "16/16 [==============================] - 0s 24ms/step - loss: 0.1156 - acc: 0.9575 - val_loss: 1.0717 - val_acc: 0.8130\n"
     ]
    }
   ],
   "source": [
    "#訓練模型\n",
    "history = model.fit(partial_x_train, partial_y_train,\n",
    "                   epochs=20,\n",
    "                   batch_size=512,\n",
    "                   validation_data=(x_val, y_val))"
   ]
  },
  {
   "cell_type": "code",
   "execution_count": 23,
   "id": "9379d4c0",
   "metadata": {
    "execution": {
     "iopub.execute_input": "2022-08-08T15:34:55.654846Z",
     "iopub.status.busy": "2022-08-08T15:34:55.653269Z",
     "iopub.status.idle": "2022-08-08T15:34:55.660253Z",
     "shell.execute_reply": "2022-08-08T15:34:55.658285Z"
    },
    "papermill": {
     "duration": 0.033407,
     "end_time": "2022-08-08T15:34:55.662907",
     "exception": false,
     "start_time": "2022-08-08T15:34:55.629500",
     "status": "completed"
    },
    "tags": []
   },
   "outputs": [],
   "source": [
    "#繪製訓練和驗證損失\n",
    "import matplotlib.pyplot as plt"
   ]
  },
  {
   "cell_type": "code",
   "execution_count": 24,
   "id": "ef4cf19d",
   "metadata": {
    "execution": {
     "iopub.execute_input": "2022-08-08T15:34:55.704490Z",
     "iopub.status.busy": "2022-08-08T15:34:55.703454Z",
     "iopub.status.idle": "2022-08-08T15:34:55.708519Z",
     "shell.execute_reply": "2022-08-08T15:34:55.707753Z"
    },
    "papermill": {
     "duration": 0.0282,
     "end_time": "2022-08-08T15:34:55.710648",
     "exception": false,
     "start_time": "2022-08-08T15:34:55.682448",
     "status": "completed"
    },
    "tags": []
   },
   "outputs": [],
   "source": [
    "loss = history.history['loss']\n",
    "val_loss = history.history['val_loss']\n",
    "\n",
    "epochs = range(1, len(loss) + 1)"
   ]
  },
  {
   "cell_type": "code",
   "execution_count": 25,
   "id": "b1ee582d",
   "metadata": {
    "execution": {
     "iopub.execute_input": "2022-08-08T15:34:55.750121Z",
     "iopub.status.busy": "2022-08-08T15:34:55.749417Z",
     "iopub.status.idle": "2022-08-08T15:34:56.012941Z",
     "shell.execute_reply": "2022-08-08T15:34:56.012084Z"
    },
    "papermill": {
     "duration": 0.285839,
     "end_time": "2022-08-08T15:34:56.015233",
     "exception": false,
     "start_time": "2022-08-08T15:34:55.729394",
     "status": "completed"
    },
    "tags": []
   },
   "outputs": [
    {
     "data": {
      "image/png": "[encoded data removed]",
      "text/plain": [
       "<Figure size 432x288 with 1 Axes>"
      ]
     },
     "metadata": {
      "needs_background": "light"
     },
     "output_type": "display_data"
    }
   ],
   "source": [
    "plt.plot(epochs, loss, 'bo', label='Training loss')\n",
    "plt.plot(epochs, val_loss, 'b', label='Validation loss')\n",
    "plt.title('Training and validation loss')\n",
    "plt.xlabel('Epochs')\n",
    "plt.ylabel('Loss')\n",
    "plt.legend()\n",
    "\n",
    "plt.show()"
   ]
  },
  {
   "cell_type": "code",
   "execution_count": 26,
   "id": "3f0c6183",
   "metadata": {
    "execution": {
     "iopub.execute_input": "2022-08-08T15:34:56.056037Z",
     "iopub.status.busy": "2022-08-08T15:34:56.055157Z",
     "iopub.status.idle": "2022-08-08T15:34:56.256721Z",
     "shell.execute_reply": "2022-08-08T15:34:56.255592Z"
    },
    "papermill": {
     "duration": 0.224766,
     "end_time": "2022-08-08T15:34:56.259185",
     "exception": false,
     "start_time": "2022-08-08T15:34:56.034419",
     "status": "completed"
    },
    "tags": []
   },
   "outputs": [
    {
     "data": {
      "image/png": "[encoded data removed]",
      "text/plain": [
       "<Figure size 432x288 with 1 Axes>"
      ]
     },
     "metadata": {
      "needs_background": "light"
     },
     "output_type": "display_data"
    }
   ],
   "source": [
    "#plt.clf() 清除畫面\n",
    "\n",
    "acc = history.history['acc']\n",
    "val_acc = history.history['val_acc']\n",
    "\n",
    "plt.plot(epochs, acc, 'bo', label='Training accuracy')\n",
    "plt.plot(epochs, val_acc, 'b', label='Validation accuracy')\n",
    "plt.title('Training and validation accuracy')\n",
    "plt.xlabel('Epochs')\n",
    "plt.ylabel('Accuracy')\n",
    "\n",
    "plt.show()"
   ]
  },
  {
   "cell_type": "code",
   "execution_count": 27,
   "id": "72dd3b5f",
   "metadata": {
    "execution": {
     "iopub.execute_input": "2022-08-08T15:34:56.300046Z",
     "iopub.status.busy": "2022-08-08T15:34:56.299365Z",
     "iopub.status.idle": "2022-08-08T15:34:56.335301Z",
     "shell.execute_reply": "2022-08-08T15:34:56.334226Z"
    },
    "papermill": {
     "duration": 0.059306,
     "end_time": "2022-08-08T15:34:56.337796",
     "exception": false,
     "start_time": "2022-08-08T15:34:56.278490",
     "status": "completed"
    },
    "tags": []
   },
   "outputs": [],
   "source": [
    "#重新訓練模型\n",
    "model = keras.Sequential([\n",
    "    layers.Dense(64, activation='relu', input_shape=(10000,)),\n",
    "    layers.Dense(64, activation='relu'),\n",
    "    layers.Dense(46, activation='softmax')\n",
    "])"
   ]
  },
  {
   "cell_type": "code",
   "execution_count": 28,
   "id": "aea7a838",
   "metadata": {
    "execution": {
     "iopub.execute_input": "2022-08-08T15:34:56.378523Z",
     "iopub.status.busy": "2022-08-08T15:34:56.378154Z",
     "iopub.status.idle": "2022-08-08T15:34:56.388338Z",
     "shell.execute_reply": "2022-08-08T15:34:56.387182Z"
    },
    "papermill": {
     "duration": 0.033114,
     "end_time": "2022-08-08T15:34:56.390373",
     "exception": false,
     "start_time": "2022-08-08T15:34:56.357259",
     "status": "completed"
    },
    "tags": []
   },
   "outputs": [],
   "source": [
    "model.compile(optimizer='rmsprop',\n",
    "             loss='categorical_crossentropy',\n",
    "             metrics=['accuracy'])"
   ]
  },
  {
   "cell_type": "code",
   "execution_count": 29,
   "id": "a345bdc7",
   "metadata": {
    "execution": {
     "iopub.execute_input": "2022-08-08T15:34:56.430912Z",
     "iopub.status.busy": "2022-08-08T15:34:56.430080Z",
     "iopub.status.idle": "2022-08-08T15:35:01.471921Z",
     "shell.execute_reply": "2022-08-08T15:35:01.470948Z"
    },
    "papermill": {
     "duration": 5.064695,
     "end_time": "2022-08-08T15:35:01.474360",
     "exception": false,
     "start_time": "2022-08-08T15:34:56.409665",
     "status": "completed"
    },
    "tags": []
   },
   "outputs": [
    {
     "name": "stdout",
     "output_type": "stream",
     "text": [
      "Epoch 1/9\n",
      "16/16 [==============================] - 1s 41ms/step - loss: 2.6026 - accuracy: 0.5353 - val_loss: 1.6782 - val_accuracy: 0.6520\n",
      "Epoch 2/9\n",
      "16/16 [==============================] - 0s 25ms/step - loss: 1.3919 - accuracy: 0.7097 - val_loss: 1.2834 - val_accuracy: 0.7110\n",
      "Epoch 3/9\n",
      "16/16 [==============================] - 0s 26ms/step - loss: 1.0389 - accuracy: 0.7770 - val_loss: 1.1080 - val_accuracy: 0.7620\n",
      "Epoch 4/9\n",
      "16/16 [==============================] - 0s 26ms/step - loss: 0.8193 - accuracy: 0.8289 - val_loss: 1.0094 - val_accuracy: 0.7840\n",
      "Epoch 5/9\n",
      "16/16 [==============================] - 0s 29ms/step - loss: 0.6527 - accuracy: 0.8641 - val_loss: 0.9267 - val_accuracy: 0.8060\n",
      "Epoch 6/9\n",
      "16/16 [==============================] - 0s 25ms/step - loss: 0.5203 - accuracy: 0.8923 - val_loss: 0.8881 - val_accuracy: 0.8180\n",
      "Epoch 7/9\n",
      "16/16 [==============================] - 0s 25ms/step - loss: 0.4176 - accuracy: 0.9136 - val_loss: 0.9076 - val_accuracy: 0.7960\n",
      "Epoch 8/9\n",
      "16/16 [==============================] - 0s 24ms/step - loss: 0.3425 - accuracy: 0.9258 - val_loss: 0.8820 - val_accuracy: 0.8070\n",
      "Epoch 9/9\n",
      "16/16 [==============================] - 0s 24ms/step - loss: 0.2799 - accuracy: 0.9395 - val_loss: 0.9157 - val_accuracy: 0.8010\n"
     ]
    },
    {
     "data": {
      "text/plain": [
       "<keras.callbacks.History at 0x7f4298a3ba90>"
      ]
     },
     "execution_count": 29,
     "metadata": {},
     "output_type": "execute_result"
    }
   ],
   "source": [
    "model.fit(partial_x_train, partial_y_train,\n",
    "         epochs=9,\n",
    "         batch_size=512,\n",
    "         validation_data=(x_val, y_val))"
   ]
  },
  {
   "cell_type": "code",
   "execution_count": 30,
   "id": "1260660f",
   "metadata": {
    "execution": {
     "iopub.execute_input": "2022-08-08T15:35:01.525145Z",
     "iopub.status.busy": "2022-08-08T15:35:01.524314Z",
     "iopub.status.idle": "2022-08-08T15:35:01.860293Z",
     "shell.execute_reply": "2022-08-08T15:35:01.858894Z"
    },
    "papermill": {
     "duration": 0.364615,
     "end_time": "2022-08-08T15:35:01.863094",
     "exception": false,
     "start_time": "2022-08-08T15:35:01.498479",
     "status": "completed"
    },
    "tags": []
   },
   "outputs": [
    {
     "name": "stdout",
     "output_type": "stream",
     "text": [
      "71/71 [==============================] - 0s 3ms/step - loss: 1.0324 - accuracy: 0.7774\n"
     ]
    },
    {
     "data": {
      "text/plain": [
       "[1.03239905834198, 0.7773820161819458]"
      ]
     },
     "execution_count": 30,
     "metadata": {},
     "output_type": "execute_result"
    }
   ],
   "source": [
    "results = model.evaluate(x_test, one_hot_test_labels)\n",
    "\n",
    "results #[損失分數， 準確度]"
   ]
  },
  {
   "cell_type": "code",
   "execution_count": 31,
   "id": "2bbd97ed",
   "metadata": {
    "execution": {
     "iopub.execute_input": "2022-08-08T15:35:01.914208Z",
     "iopub.status.busy": "2022-08-08T15:35:01.913218Z",
     "iopub.status.idle": "2022-08-08T15:35:01.922085Z",
     "shell.execute_reply": "2022-08-08T15:35:01.920961Z"
    },
    "papermill": {
     "duration": 0.036981,
     "end_time": "2022-08-08T15:35:01.924384",
     "exception": false,
     "start_time": "2022-08-08T15:35:01.887403",
     "status": "completed"
    },
    "tags": []
   },
   "outputs": [
    {
     "data": {
      "text/plain": [
       "0.19056099732858414"
      ]
     },
     "execution_count": 31,
     "metadata": {},
     "output_type": "execute_result"
    }
   ],
   "source": [
    "#純隨機猜測\n",
    "#二元分類: 50%\n",
    "#對同樣test_label:\n",
    "\n",
    "import copy\n",
    "\n",
    "test_labels_copy = copy.copy(test_labels)\n",
    "np.random.shuffle(test_labels_copy)\n",
    "hits_array = np.array(test_labels) == np.array(test_labels_copy)\n",
    "\n",
    "float(np.sum(hits_array)) / len(test_labels)\n",
    "\n",
    "#只有約20% -> model > 隨機分類"
   ]
  },
  {
   "cell_type": "code",
   "execution_count": 32,
   "id": "648f50a2",
   "metadata": {
    "execution": {
     "iopub.execute_input": "2022-08-08T15:35:01.974788Z",
     "iopub.status.busy": "2022-08-08T15:35:01.974153Z",
     "iopub.status.idle": "2022-08-08T15:35:02.289222Z",
     "shell.execute_reply": "2022-08-08T15:35:02.287987Z"
    },
    "papermill": {
     "duration": 0.343267,
     "end_time": "2022-08-08T15:35:02.291983",
     "exception": false,
     "start_time": "2022-08-08T15:35:01.948716",
     "status": "completed"
    },
    "tags": []
   },
   "outputs": [],
   "source": [
    "#對資料產生預測值\n",
    "predictions = model.predict(x_test)"
   ]
  },
  {
   "cell_type": "code",
   "execution_count": 33,
   "id": "d7b1e908",
   "metadata": {
    "execution": {
     "iopub.execute_input": "2022-08-08T15:35:02.343560Z",
     "iopub.status.busy": "2022-08-08T15:35:02.343149Z",
     "iopub.status.idle": "2022-08-08T15:35:02.350699Z",
     "shell.execute_reply": "2022-08-08T15:35:02.349577Z"
    },
    "papermill": {
     "duration": 0.036079,
     "end_time": "2022-08-08T15:35:02.353030",
     "exception": false,
     "start_time": "2022-08-08T15:35:02.316951",
     "status": "completed"
    },
    "tags": []
   },
   "outputs": [
    {
     "data": {
      "text/plain": [
       "(46,)"
      ]
     },
     "execution_count": 33,
     "metadata": {},
     "output_type": "execute_result"
    }
   ],
   "source": [
    "predictions[0].shape #每個項目的預測prediction都是長度46的向量"
   ]
  },
  {
   "cell_type": "code",
   "execution_count": 34,
   "id": "1b29823a",
   "metadata": {
    "execution": {
     "iopub.execute_input": "2022-08-08T15:35:02.403366Z",
     "iopub.status.busy": "2022-08-08T15:35:02.402981Z",
     "iopub.status.idle": "2022-08-08T15:35:02.409281Z",
     "shell.execute_reply": "2022-08-08T15:35:02.408344Z"
    },
    "papermill": {
     "duration": 0.03422,
     "end_time": "2022-08-08T15:35:02.411455",
     "exception": false,
     "start_time": "2022-08-08T15:35:02.377235",
     "status": "completed"
    },
    "tags": []
   },
   "outputs": [
    {
     "data": {
      "text/plain": [
       "1.0"
      ]
     },
     "execution_count": 34,
     "metadata": {},
     "output_type": "execute_result"
    }
   ],
   "source": [
    "np.round(np.sum(predictions[0]), 3) #向量中係數總和為1(機率總和為1)"
   ]
  },
  {
   "cell_type": "code",
   "execution_count": 35,
   "id": "b0bbe4a4",
   "metadata": {
    "execution": {
     "iopub.execute_input": "2022-08-08T15:35:02.464630Z",
     "iopub.status.busy": "2022-08-08T15:35:02.464058Z",
     "iopub.status.idle": "2022-08-08T15:35:02.470683Z",
     "shell.execute_reply": "2022-08-08T15:35:02.469928Z"
    },
    "papermill": {
     "duration": 0.037674,
     "end_time": "2022-08-08T15:35:02.473303",
     "exception": false,
     "start_time": "2022-08-08T15:35:02.435629",
     "status": "completed"
    },
    "tags": []
   },
   "outputs": [
    {
     "data": {
      "text/plain": [
       "3"
      ]
     },
     "execution_count": 35,
     "metadata": {},
     "output_type": "execute_result"
    }
   ],
   "source": [
    "np.argmax(predictions[0]) #最高機率的類別"
   ]
  },
  {
   "cell_type": "code",
   "execution_count": 36,
   "id": "b017b0f3",
   "metadata": {
    "execution": {
     "iopub.execute_input": "2022-08-08T15:35:02.525246Z",
     "iopub.status.busy": "2022-08-08T15:35:02.524615Z",
     "iopub.status.idle": "2022-08-08T15:35:02.529435Z",
     "shell.execute_reply": "2022-08-08T15:35:02.528363Z"
    },
    "papermill": {
     "duration": 0.033674,
     "end_time": "2022-08-08T15:35:02.531714",
     "exception": false,
     "start_time": "2022-08-08T15:35:02.498040",
     "status": "completed"
    },
    "tags": []
   },
   "outputs": [],
   "source": [
    "#另一種方式處理標籤與損失\n",
    "#原本: one-hot, 現在: 整數張量\n",
    "y_train = np.array(train_labels)\n",
    "y_test = np.array(test_labels)\n",
    "#注意: 損失函數: categorical_crossentropy -> sparse_categorical_crossentropy\n",
    "#輸出:         [1, 0, 0]                   [0]\n",
    "#             [0, 1, 0]                   [1]\n",
    "#             [0, 0, 1]                   [2]"
   ]
  }
 ],
 "metadata": {
  "kernelspec": {
   "display_name": "Python 3",
   "language": "python",
   "name": "python3"
  },
  "language_info": {
   "codemirror_mode": {
    "name": "ipython",
    "version": 3
   },
   "file_extension": ".py",
   "mimetype": "text/x-python",
   "name": "python",
   "nbconvert_exporter": "python",
   "pygments_lexer": "ipython3",
   "version": "3.7.12"
  },
  "papermill": {
   "default_parameters": {},
   "duration": 38.540302,
   "end_time": "2022-08-08T15:35:05.706658",
   "environment_variables": {},
   "exception": null,
   "input_path": "__notebook__.ipynb",
   "output_path": "__notebook__.ipynb",
   "parameters": {},
   "start_time": "2022-08-08T15:34:27.166356",
   "version": "2.3.4"
  }
 },
 "nbformat": 4,
 "nbformat_minor": 5
}
